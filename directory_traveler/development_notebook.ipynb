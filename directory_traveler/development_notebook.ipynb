{
 "cells": [
  {
   "cell_type": "code",
   "execution_count": 30,
   "metadata": {},
   "outputs": [],
   "source": [
    "import os\n",
    "import mimetypes\n",
    "from concurrent.futures import ThreadPoolExecutor\n",
    "import pandas as pd"
   ]
  },
  {
   "cell_type": "code",
   "execution_count": 9,
   "metadata": {},
   "outputs": [],
   "source": [
    "def analyze_file(file_path):\n",
    "    try:\n",
    "        file_info = os.stat(file_path)\n",
    "        file_name = os.path.basename(file_path)\n",
    "        file_size = file_info.st_size\n",
    "        file_type, _ = mimetypes.guess_type(file_path)\n",
    "        if file_type is None:\n",
    "            file_type = 'unknown'\n",
    "\n",
    "        if file_type.startswith('text'):\n",
    "            with open(file_path, 'r', errors='ignore') as file:\n",
    "                content = file.read()\n",
    "                word_count = len(content.split())\n",
    "                return {\"file_name\": file_name, \"size\": file_size, \"type\": file_type, \"word_count\": word_count}\n",
    "        else:\n",
    "            return {\"file_name\": file_name, \"size\": file_size, \"type\": file_type}\n",
    "\n",
    "    except Exception as e:\n",
    "        print(f\"Failed to analyze {file_path}: {e}\")\n",
    "        return {\"file\": file_path, \"file_name\": file_name, \"size\": None, \"type\": \"error\", \"error\": str(e)}\n",
    "\n",
    "def analyze_directory(directory_path):\n",
    "    results = []\n",
    "    with ThreadPoolExecutor(max_workers=5) as executor:\n",
    "        for root, _, files in os.walk(directory_path):\n",
    "            file_paths = [os.path.join(root, file) for file in files]\n",
    "            results.extend(executor.map(analyze_file, file_paths))\n",
    "    return results\n",
    "\n",
    "# if __name__ == \"__main__\":\n",
    "#     directory_path = \"/path/to/your/directory\"  # Replace with the path to your directory\n",
    "#     results = analyze_directory(directory_path)\n",
    "#     with open(\"results.json\", \"w\") as f:\n",
    "#         json.dump(results, f)"
   ]
  },
  {
   "cell_type": "code",
   "execution_count": 10,
   "metadata": {},
   "outputs": [
    {
     "name": "stdout",
     "output_type": "stream",
     "text": [
      "Three levels back directory: c:\\Users\\Max\\OneDrive\\Documents\\GitHub\\experiments\\directory_traveler\\..\\..\\..\n"
     ]
    }
   ],
   "source": [
    "# Get the path of the directory three levels up from the current directory\n",
    "three_levels_back_directory = os.path.join(os.getcwd(), os.pardir, os.pardir, os.pardir,)\n",
    "\n",
    "print(\"Three levels back directory:\", three_levels_back_directory)"
   ]
  },
  {
   "cell_type": "code",
   "execution_count": 36,
   "metadata": {},
   "outputs": [],
   "source": [
    "onedrive_directory = 'c:/Users/OneDrive/'\n",
    "users_directory = 'c:/Users'\n",
    "f_drive = 'f:/'"
   ]
  },
  {
   "cell_type": "code",
   "execution_count": 37,
   "metadata": {},
   "outputs": [],
   "source": [
    "results = analyze_directory(f_drive)"
   ]
  },
  {
   "cell_type": "code",
   "execution_count": null,
   "metadata": {},
   "outputs": [
    {
     "data": {
      "text/plain": [
       "585450"
      ]
     },
     "execution_count": 27,
     "metadata": {},
     "output_type": "execute_result"
    }
   ],
   "source": [
    "len(results)"
   ]
  },
  {
   "cell_type": "code",
   "execution_count": null,
   "metadata": {},
   "outputs": [],
   "source": [
    "df = pd.DataFrame(results)"
   ]
  },
  {
   "cell_type": "code",
   "execution_count": null,
   "metadata": {},
   "outputs": [
    {
     "data": {
      "text/plain": [
       "140.195081382"
      ]
     },
     "execution_count": 35,
     "metadata": {},
     "output_type": "execute_result"
    }
   ],
   "source": [
    "df['size'].sum() / 1_000_000_000"
   ]
  }
 ],
 "metadata": {
  "kernelspec": {
   "display_name": "experiments-0QODYWh7",
   "language": "python",
   "name": "python3"
  },
  "language_info": {
   "codemirror_mode": {
    "name": "ipython",
    "version": 3
   },
   "file_extension": ".py",
   "mimetype": "text/x-python",
   "name": "python",
   "nbconvert_exporter": "python",
   "pygments_lexer": "ipython3",
   "version": "3.12.2"
  }
 },
 "nbformat": 4,
 "nbformat_minor": 2
}
