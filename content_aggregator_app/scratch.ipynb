{
 "cells": [
  {
   "cell_type": "code",
   "execution_count": 34,
   "metadata": {},
   "outputs": [],
   "source": [
    "import tkinter as tk"
   ]
  },
  {
   "cell_type": "markdown",
   "metadata": {},
   "source": [
    "# Examples"
   ]
  },
  {
   "cell_type": "markdown",
   "metadata": {},
   "source": [
    "## Temperature Converter"
   ]
  },
  {
   "cell_type": "code",
   "execution_count": 35,
   "metadata": {},
   "outputs": [],
   "source": [
    "def fahrenheit_to_celsius():\n",
    "    \"\"\"Convert the value for Fahrenheit to Celsius and insert the\n",
    "    result into lbl_result.\n",
    "    \"\"\"\n",
    "    fahrenheit = ent_temperature.get()\n",
    "    celsius = (5 / 9) * (float(fahrenheit) - 32)\n",
    "    lbl_result[\"text\"] = f\"{round(celsius, 2)} \\N{DEGREE CELSIUS}\"\n",
    "\n",
    "# Set up the window\n",
    "window = tk.Tk()\n",
    "window.title(\"Temperature Converter\")\n",
    "window.resizable(width=False, height=False)\n",
    "\n",
    "# Create the Fahrenheit entry frame with an Entry\n",
    "# widget and label in it\n",
    "frm_entry = tk.Frame(master=window)\n",
    "ent_temperature = tk.Entry(master=frm_entry, width=10)\n",
    "lbl_temp = tk.Label(master=frm_entry, text=\"\\N{DEGREE FAHRENHEIT}\")\n",
    "\n",
    "# Layout the temperature Entry and Label in frm_entry\n",
    "# using the .grid() geometry manager\n",
    "ent_temperature.grid(row=0, column=0, sticky=\"e\")\n",
    "lbl_temp.grid(row=0, column=1, sticky=\"w\")\n",
    "\n",
    "# Create the conversion Button and result display Label\n",
    "btn_convert = tk.Button(\n",
    "    master=window,\n",
    "    text=\"\\N{RIGHTWARDS BLACK ARROW}\",\n",
    "    command=fahrenheit_to_celsius\n",
    ")\n",
    "lbl_result = tk.Label(master=window, text=\"\\N{DEGREE CELSIUS}\")\n",
    "\n",
    "# Set up the layout using the .grid() geometry manager\n",
    "frm_entry.grid(row=0, column=0, padx=10)\n",
    "btn_convert.grid(row=0, column=1, pady=10)\n",
    "lbl_result.grid(row=0, column=2, padx=10)\n",
    "\n",
    "# Run the application\n",
    "window.mainloop()"
   ]
  },
  {
   "cell_type": "markdown",
   "metadata": {},
   "source": [
    "## Text Editor"
   ]
  },
  {
   "cell_type": "code",
   "execution_count": 36,
   "metadata": {},
   "outputs": [],
   "source": [
    "from tkinter.filedialog import askopenfilename, asksaveasfilename\n",
    "\n",
    "def open_file():\n",
    "    \"\"\"Open a file for editing.\"\"\"\n",
    "    filepath = askopenfilename(\n",
    "        filetypes=[(\"Text Files\", \"*.txt\"), (\"All Files\", \"*.*\")]\n",
    "    )\n",
    "    if not filepath:\n",
    "        return\n",
    "    txt_edit.delete(\"1.0\", tk.END)\n",
    "    with open(filepath, mode=\"r\", encoding=\"utf-8\") as input_file:\n",
    "        text = input_file.read()\n",
    "        txt_edit.insert(tk.END, text)\n",
    "    window.title(f\"Simple Text Editor - {filepath}\")\n",
    "\n",
    "def save_file():\n",
    "    \"\"\"Save the current file as a new file.\"\"\"\n",
    "    filepath = asksaveasfilename(\n",
    "        defaultextension=\".txt\",\n",
    "        filetypes=[(\"Text Files\", \"*.txt\"), (\"All Files\", \"*.*\")],\n",
    "    )\n",
    "    if not filepath:\n",
    "        return\n",
    "    with open(filepath, mode=\"w\", encoding=\"utf-8\") as output_file:\n",
    "        text = txt_edit.get(\"1.0\", tk.END)\n",
    "        output_file.write(text)\n",
    "    window.title(f\"Simple Text Editor - {filepath}\")\n",
    "\n",
    "window = tk.Tk()\n",
    "window.title(\"Simple Text Editor\")\n",
    "\n",
    "window.rowconfigure(0, minsize=800, weight=1)\n",
    "window.columnconfigure(1, minsize=800, weight=1)\n",
    "\n",
    "txt_edit = tk.Text(window)\n",
    "frm_buttons = tk.Frame(window, relief=tk.RAISED, bd=2)\n",
    "btn_open = tk.Button(frm_buttons, text=\"Open\", command=open_file)\n",
    "btn_save = tk.Button(frm_buttons, text=\"Save As...\", command=save_file)\n",
    "\n",
    "btn_open.grid(row=0, column=0, sticky=\"ew\", padx=5, pady=5)\n",
    "btn_save.grid(row=1, column=0, sticky=\"ew\", padx=5)\n",
    "\n",
    "frm_buttons.grid(row=0, column=0, sticky=\"ns\")\n",
    "txt_edit.grid(row=0, column=1, sticky=\"nsew\")\n",
    "\n",
    "window.mainloop()"
   ]
  },
  {
   "cell_type": "markdown",
   "metadata": {},
   "source": [
    "# Backend Code Scratch"
   ]
  },
  {
   "cell_type": "code",
   "execution_count": 37,
   "metadata": {},
   "outputs": [
    {
     "name": "stdout",
     "output_type": "stream",
     "text": [
      "Top 5 Wikipedia Results for \"worthington ohio schools\":\n",
      "Worthington, Ohio\n",
      "Thomas Worthington High School\n",
      "Worthington Christian High School\n",
      "Worthington Kilbourne High School\n",
      "Worthington City School District\n"
     ]
    }
   ],
   "source": [
    "import wikipedia\n",
    "\n",
    "search = \"worthington ohio schools\"\n",
    "\n",
    "search_results = wikipedia.search(query=search, results=5)\n",
    "\n",
    "# Print the top 5 results (titles)\n",
    "print(f'Top 5 Wikipedia Results for \"{search}\":')\n",
    "for result in search_results:\n",
    "  print(result)"
   ]
  },
  {
   "cell_type": "markdown",
   "metadata": {},
   "source": [
    "# DuckDuckGo and Reddit"
   ]
  },
  {
   "cell_type": "code",
   "execution_count": 42,
   "metadata": {},
   "outputs": [
    {
     "data": {
      "text/plain": [
       "[{'title': 'What are the best wireless, noise cancelling over-the-ear headphones ...',\n",
       "  'href': 'https://www.reddit.com/r/HeadphoneAdvice/comments/syc70l/what_are_the_best_wireless_noise_cancelling/',\n",
       "  'body': 'Here you can ask which headphone is better, which amp you should buy, which gear best fit your budget and anything related to headphone comparisons and purchasing. Members Online Headphone novice looking for closed back headphone recommendations - same budget scale as Sennheiser 600/58x'},\n",
       " {'title': 'What are the best sounding wireless headphones? (No Budget)',\n",
       "  'href': 'https://www.reddit.com/r/HeadphoneAdvice/comments/pf4s5i/what_are_the_best_sounding_wireless_headphones_no/',\n",
       "  'body': \"The Sennheiser PXC 550-II sounds most neutral, and the Sennheiser Momentum 3 sounded best among the V-shaped tuning (boosted bass and treble, scooped-out mids) that's so common with consumer wireless headphones these days. You also could consider IEMs, which considerably deepen the rabbit hole you're about descend. Reply reply.\"},\n",
       " {'title': 'Highest-End/Best wireless headphones? : r/headphones - Reddit',\n",
       "  'href': 'https://www.reddit.com/r/headphones/comments/veru8g/highestendbest_wireless_headphones/',\n",
       "  'body': \"For the Bluetooth part being more integrated with the headphones, there's only really the Sony, Bose, Apple, etc. There's a bunch of threads on Head-Fi about other Bluetooth headphones but it's kinda like overpriced (bad app support/capabilities, missing standard extra features like EQ, etc.) even more, so not really worth it.\"},\n",
       " {'title': \"I'm not an audiophile, but these are the best bluetooth headphones I've ...\",\n",
       "  'href': 'https://www.reddit.com/r/headphones/comments/z5mcei/im_not_an_audiophile_but_these_are_the_best/',\n",
       "  'body': 'The BT headphones I\\'ve tried in the past were Bose 700, Sony-1000XM3 and XM4\\'s, and the Momentum 3s. All of them are \"flagship\" quality BT headphones, but in terms of comfort + sound quality, the 2 most important factors I am looking for, these are my endgame wireless headphones. The sound quality is comparable to the Momentum 3s, but in my ...'},\n",
       " {'title': 'I compared all premium over-ear Bluetooth headphones (so you ... - Reddit',\n",
       "  'href': 'https://www.reddit.com/r/headphones/comments/z0z4on/i_compared_all_premium_overear_bluetooth/',\n",
       "  'body': 'It also has the best representation of space with its larger than usual soundstage for a closed-back headphone. It sadly looks like a spaceship and i would only use it at home, which kind of defeats the purpose of this headphone. 4# Best budget / surprise---> Dali iO6: It can be found for way under 300€/$ and that alone makes it a winner. It ...'},\n",
       " {'title': 'My journey to the best sounding TWS Earbuds in 2022 : r/headphones - Reddit',\n",
       "  'href': 'https://www.reddit.com/r/headphones/comments/wviet8/my_journey_to_the_best_sounding_tws_earbuds_in/',\n",
       "  'body': 'Best overall: Sennheiser Momentum True Wireless 3. Nura NuraTrue Pro (The fullest and most immersive sound I have ever heard from an in-ear TWS earbud. Sadly it lacks a bit of treble / vocal detail) Oppo Enco X2 [***] (The only pair on this list that unforgivingly showed me the limits of Spotify source material.'},\n",
       " {'title': 'Best Bluetooth Headphones 2023 : r/HeadphoneAdvice - Reddit',\n",
       "  'href': 'https://www.reddit.com/r/HeadphoneAdvice/comments/17adstc/best_bluetooth_headphones_2023/',\n",
       "  'body': 'Others will like the Focal Bathys for the full package (with ANC), both which have budgets that are well above most Bluetooth headphones. On the cheaper side, some people just get a LDAC headphone with great ANC (like Sony WH-1000XM4) and just use EQ. Some people prioritize the tuning, getting something like the Momentum 3 Wireless.'},\n",
       " {'title': 'Best affordable Bluetooth wireless headphones with great audio ... - Reddit',\n",
       "  'href': 'https://www.reddit.com/r/HeadphoneAdvice/comments/gx7ylp/best_affordable_bluetooth_wireless_headphones/',\n",
       "  'body': 'For budget over ear Bluetooth (under $100) I usually tell people to go for the TaoTronics Soundsurge 46, Anker SoundCore Liberty Air 2, Anker SoundCore Life Q20, TaoTronics SoundLiberty 77, Koss PortaPro Bluetooth, or 1More Stylish wireless earbuds. Checkout the Sennheiser HD4.50btnc.'},\n",
       " {'title': 'What are the best \"audiophile\" wireless headphones?',\n",
       "  'href': 'https://www.reddit.com/r/HeadphoneAdvice/comments/zwxalt/what_are_the_best_audiophile_wireless_headphones/',\n",
       "  'body': '(3) Bluetooth dongle with wired headphones will depend on the headphones. The pro here is there are countless choices. (4) Standard wireless. I assume you refer to audiophile bluetooth like Bathys and Deva. Because most bluetooth headphones, even those from Shure, Sennheiser have sound that is not comparable to wired headphones.'},\n",
       " {'title': 'Recommendations for most comfortable wireless headphones ... - Reddit',\n",
       "  'href': 'https://www.reddit.com/r/HeadphoneAdvice/comments/tdimxu/recommendations_for_most_comfortable_wireless/',\n",
       "  'body': 'This headset is the Steelseries Siberia x800 - the earpads are big enough, and i was able to find some aftermarket earpads to elongate their life until the battery problem arose. I do not need a headset (though i am still willing to buy one if necessary); this is what i am looking for in a new set of headphones: round earpads'}]"
      ]
     },
     "metadata": {},
     "output_type": "display_data"
    }
   ],
   "source": [
    "from duckduckgo_search import DDGS\n",
    "\n",
    "results = DDGS().text(\"best bluetooth headphones site:reddit.com\", max_results=10)\n",
    "display(results)"
   ]
  },
  {
   "cell_type": "code",
   "execution_count": 69,
   "metadata": {},
   "outputs": [
    {
     "name": "stdout",
     "output_type": "stream",
     "text": [
      "(upvotes-5) chucuyo: Do you happen to use glasses? Very much interested in finding the most comfortable option possible for BT cans. Looking at Sony WH-1000XM4s currently  \n",
      "\n",
      "Beyer DT770s are a bit tight for me after a while of use, for reference\n",
      "(upvotes-6) Raytheon-6: The BT headphones I've tried in the past were Bose 700, Sony-1000XM3 and XM4's, and the Momentum 3s. All of them are \"flagship\" quality BT headphones, but in terms of comfort + sound quality, the 2 most important factors I am looking for, these are my endgame wireless headphones. The sound quality is comparable to the Momentum 3s, but in my opinion, these headphones are close to the Sony and Bose in comfort but blows the Sony and Bose out of the water in sound quality. The bass sounds richer, and the soundstage sounds more expansive. I bought these for $225 renewed off of Amazon, and I have absolutely no regrets.\n",
      "(upvotes-3) redhotpisser: What model are they?\n",
      "(upvotes-2) Butch1972: Those look so comfortable.\n",
      "(upvotes-2) onlyonekebab: Have you had software troubles? I've been researching these but found numerous threads about buggy firmware ever since launch\n",
      "(upvotes-2) Kordzik71: I was thinking about these but after reading about its problems and terrible customer service that does not reply to warranty claims I passed and bought Yamaha e700 and coudnt be happier . I can't believe $200 bt headphones can sound this good and I have wired headphones that cost 4 times more  ( denon d7100 ) but my daily drivers are Fostex th-x00 with Denon da 300usb dac / amp . I also have Beyedynamic dt 770 , Fostex t50rp mk3 and few others . One thing I did was I replaced pads with velour pads from Aliexpress for $10 that fixed comfort issue and sound . With stock pads bass was out of controll and while I consider myself basshead it have to be clean , not boomy and nicely controlled and do not overpower mids and high end. Replacement pads from AliExpress fixed it so now these sound really , really  good . I also considered Technics a800 and from what I read they sound similar to yamaha and have ability to equalize them but cost 30% more and bought and returned Akg k371bt because they sound flat and boring and have many issues and bought and kept Skulkcandy crusher evo refurb for $100 as backup that sound surprisingly good once you run hearing test and they adjust sound and  use 5% bass boost .\n",
      "(upvotes-4) None: I do. I have the m4 and xm3s. Both have been extremely comfortable for me.\n",
      "(upvotes-2) Raytheon-6: I wear glasses, but I don't always wear glasses when I have headphones on. I have the Sony XM3s and they are extremely comfortable even with glasses, I can only imagine the 4th and 5th generation being just as comfortable. The Momentum 4s are pretty much just as comfortable, so you can't go wrong with either choice, ANC and sound quality is probably more important.\n",
      "(upvotes-7) None: Just got my pair today. Loving them. Only complaint is the noise cancelling compared to my xm3s is rather subpar. Aka I can hear my cat when he yowls at my ass lol\n",
      "(upvotes-1) None: I found this one at $249, refurbished, at Walmart. Do you think it worth it? I don't live in US, just importing to here. That model here is around $490\n",
      "(upvotes-4) Raytheon-6: Sennheiser Momentums 4\n",
      "(upvotes-2) Raytheon-6: The software issues might've happened when the headphones were recently released. I got these headphones during Black Friday, and updated the firmware to the latest patch, and I've had no issues whatsoever. Everything is worked as it's intended to.\n",
      "(upvotes-2) Raytheon-6: What a coincidence, I do too, and those are the only two BT headphones I own at the moment, and I can vouch for that response.\n",
      "(upvotes-3) Raytheon-6: The ANC definitely is subpar, but I still prefer M4 over XM3 because of sound quality lol\n",
      "(upvotes-1) Raytheon-6: 100% worth it.\n",
      "(upvotes-2) redhotpisser: Thanks\n",
      "(upvotes-1) zenz11: how much bass they got? i’m not super into bass\n"
     ]
    }
   ],
   "source": [
    "import praw\n",
    "import json\n",
    "# Read-only instance\n",
    "with open(\"../secrets.json\") as f:\n",
    "    secrets = json.load(f)\n",
    "\n",
    "reddit = praw.Reddit(\n",
    "    client_id=secrets.get(\"client_id\"),\n",
    "    client_secret=secrets.get(\"client_secret\"),\n",
    "    user_agent=secrets.get(\"user_agent\"),\n",
    ")\n",
    "\n",
    "url = \"https://www.reddit.com/r/headphones/comments/z5mcei/im_not_an_audiophile_but_these_are_the_best/\"\n",
    "submission = reddit.submission(url=url)\n",
    "submission.comments.replace_more(limit=None)\n",
    "for comment in submission.comments.list():\n",
    "    print(f\"(upvotes-{comment.score}) {comment.author}: {comment.body}\")"
   ]
  }
 ],
 "metadata": {
  "kernelspec": {
   "display_name": ".venv",
   "language": "python",
   "name": "python3"
  },
  "language_info": {
   "codemirror_mode": {
    "name": "ipython",
    "version": 3
   },
   "file_extension": ".py",
   "mimetype": "text/x-python",
   "name": "python",
   "nbconvert_exporter": "python",
   "pygments_lexer": "ipython3",
   "version": "3.12.2"
  }
 },
 "nbformat": 4,
 "nbformat_minor": 2
}
