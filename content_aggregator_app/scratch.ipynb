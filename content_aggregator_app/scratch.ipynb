{
 "cells": [
  {
   "cell_type": "code",
   "execution_count": 11,
   "metadata": {},
   "outputs": [],
   "source": [
    "import tkinter as tk"
   ]
  },
  {
   "cell_type": "markdown",
   "metadata": {},
   "source": [
    "# Examples"
   ]
  },
  {
   "cell_type": "markdown",
   "metadata": {},
   "source": [
    "## Temp Converter"
   ]
  },
  {
   "cell_type": "code",
   "execution_count": 23,
   "metadata": {},
   "outputs": [
    {
     "name": "stderr",
     "output_type": "stream",
     "text": [
      "Exception in Tkinter callback\n",
      "Traceback (most recent call last):\n",
      "  File \"C:\\Users\\Max\\AppData\\Local\\Programs\\Python\\Python312\\Lib\\tkinter\\__init__.py\", line 1967, in __call__\n",
      "    return self.func(*args)\n",
      "           ^^^^^^^^^^^^^^^^\n",
      "  File \"C:\\Users\\Max\\AppData\\Local\\Temp\\ipykernel_16248\\926385092.py\", line 6, in fahrenheit_to_celsius\n",
      "    celsius = (5 / 9) * (float(fahrenheit) - 32)\n",
      "                         ^^^^^^^^^^^^^^^^^\n",
      "ValueError: could not convert string to float: 'dasdasd'\n"
     ]
    }
   ],
   "source": [
    "def fahrenheit_to_celsius():\n",
    "    \"\"\"Convert the value for Fahrenheit to Celsius and insert the\n",
    "    result into lbl_result.\n",
    "    \"\"\"\n",
    "    fahrenheit = ent_temperature.get()\n",
    "    celsius = (5 / 9) * (float(fahrenheit) - 32)\n",
    "    lbl_result[\"text\"] = f\"{round(celsius, 2)} \\N{DEGREE CELSIUS}\"\n",
    "\n",
    "# Set up the window\n",
    "window = tk.Tk()\n",
    "window.title(\"Temperature Converter\")\n",
    "window.resizable(width=False, height=False)\n",
    "\n",
    "# Create the Fahrenheit entry frame with an Entry\n",
    "# widget and label in it\n",
    "frm_entry = tk.Frame(master=window)\n",
    "ent_temperature = tk.Entry(master=frm_entry, width=10)\n",
    "lbl_temp = tk.Label(master=frm_entry, text=\"\\N{DEGREE FAHRENHEIT}\")\n",
    "\n",
    "# Layout the temperature Entry and Label in frm_entry\n",
    "# using the .grid() geometry manager\n",
    "ent_temperature.grid(row=0, column=0, sticky=\"e\")\n",
    "lbl_temp.grid(row=0, column=1, sticky=\"w\")\n",
    "\n",
    "# Create the conversion Button and result display Label\n",
    "btn_convert = tk.Button(\n",
    "    master=window,\n",
    "    text=\"\\N{RIGHTWARDS BLACK ARROW}\",\n",
    "    command=fahrenheit_to_celsius\n",
    ")\n",
    "lbl_result = tk.Label(master=window, text=\"\\N{DEGREE CELSIUS}\")\n",
    "\n",
    "# Set up the layout using the .grid() geometry manager\n",
    "frm_entry.grid(row=0, column=0, padx=10)\n",
    "btn_convert.grid(row=0, column=1, pady=10)\n",
    "lbl_result.grid(row=0, column=2, padx=10)\n",
    "\n",
    "# Run the application\n",
    "window.mainloop()"
   ]
  },
  {
   "cell_type": "markdown",
   "metadata": {},
   "source": [
    "## Text Editor"
   ]
  },
  {
   "cell_type": "code",
   "execution_count": 24,
   "metadata": {},
   "outputs": [],
   "source": [
    "from tkinter.filedialog import askopenfilename, asksaveasfilename\n",
    "\n",
    "def open_file():\n",
    "    \"\"\"Open a file for editing.\"\"\"\n",
    "    filepath = askopenfilename(\n",
    "        filetypes=[(\"Text Files\", \"*.txt\"), (\"All Files\", \"*.*\")]\n",
    "    )\n",
    "    if not filepath:\n",
    "        return\n",
    "    txt_edit.delete(\"1.0\", tk.END)\n",
    "    with open(filepath, mode=\"r\", encoding=\"utf-8\") as input_file:\n",
    "        text = input_file.read()\n",
    "        txt_edit.insert(tk.END, text)\n",
    "    window.title(f\"Simple Text Editor - {filepath}\")\n",
    "\n",
    "def save_file():\n",
    "    \"\"\"Save the current file as a new file.\"\"\"\n",
    "    filepath = asksaveasfilename(\n",
    "        defaultextension=\".txt\",\n",
    "        filetypes=[(\"Text Files\", \"*.txt\"), (\"All Files\", \"*.*\")],\n",
    "    )\n",
    "    if not filepath:\n",
    "        return\n",
    "    with open(filepath, mode=\"w\", encoding=\"utf-8\") as output_file:\n",
    "        text = txt_edit.get(\"1.0\", tk.END)\n",
    "        output_file.write(text)\n",
    "    window.title(f\"Simple Text Editor - {filepath}\")\n",
    "\n",
    "window = tk.Tk()\n",
    "window.title(\"Simple Text Editor\")\n",
    "\n",
    "window.rowconfigure(0, minsize=800, weight=1)\n",
    "window.columnconfigure(1, minsize=800, weight=1)\n",
    "\n",
    "txt_edit = tk.Text(window)\n",
    "frm_buttons = tk.Frame(window, relief=tk.RAISED, bd=2)\n",
    "btn_open = tk.Button(frm_buttons, text=\"Open\", command=open_file)\n",
    "btn_save = tk.Button(frm_buttons, text=\"Save As...\", command=save_file)\n",
    "\n",
    "btn_open.grid(row=0, column=0, sticky=\"ew\", padx=5, pady=5)\n",
    "btn_save.grid(row=1, column=0, sticky=\"ew\", padx=5)\n",
    "\n",
    "frm_buttons.grid(row=0, column=0, sticky=\"ns\")\n",
    "txt_edit.grid(row=0, column=1, sticky=\"nsew\")\n",
    "\n",
    "window.mainloop()"
   ]
  },
  {
   "cell_type": "markdown",
   "metadata": {},
   "source": [
    "# Backend Code Scratch"
   ]
  },
  {
   "cell_type": "code",
   "execution_count": 33,
   "metadata": {},
   "outputs": [
    {
     "name": "stdout",
     "output_type": "stream",
     "text": [
      "Top 5 Wikipedia Results for \"worthington ohio schools\":\n",
      "Worthington, Ohio\n",
      "Thomas Worthington High School\n",
      "Worthington Christian High School\n",
      "Worthington Kilbourne High School\n",
      "Worthington City School District\n"
     ]
    }
   ],
   "source": [
    "import wikipedia\n",
    "\n",
    "search = \"worthington ohio schools\"\n",
    "\n",
    "search_results = wikipedia.search(query=search, results=5)\n",
    "\n",
    "# Print the top 5 results (titles)\n",
    "print(f'Top 5 Wikipedia Results for \"{search}\":')\n",
    "for result in search_results:\n",
    "  print(result)"
   ]
  },
  {
   "cell_type": "code",
   "execution_count": null,
   "metadata": {},
   "outputs": [],
   "source": []
  }
 ],
 "metadata": {
  "kernelspec": {
   "display_name": ".venv",
   "language": "python",
   "name": "python3"
  },
  "language_info": {
   "codemirror_mode": {
    "name": "ipython",
    "version": 3
   },
   "file_extension": ".py",
   "mimetype": "text/x-python",
   "name": "python",
   "nbconvert_exporter": "python",
   "pygments_lexer": "ipython3",
   "version": "3.12.2"
  }
 },
 "nbformat": 4,
 "nbformat_minor": 2
}
