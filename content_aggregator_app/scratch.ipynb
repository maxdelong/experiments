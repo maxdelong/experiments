{
 "cells": [
  {
   "cell_type": "code",
   "execution_count": 34,
   "metadata": {},
   "outputs": [],
   "source": [
    "import tkinter as tk"
   ]
  },
  {
   "cell_type": "markdown",
   "metadata": {},
   "source": [
    "# Examples"
   ]
  },
  {
   "cell_type": "markdown",
   "metadata": {},
   "source": [
    "## Temperature Converter"
   ]
  },
  {
   "cell_type": "code",
   "execution_count": 35,
   "metadata": {},
   "outputs": [],
   "source": [
    "def fahrenheit_to_celsius():\n",
    "    \"\"\"Convert the value for Fahrenheit to Celsius and insert the\n",
    "    result into lbl_result.\n",
    "    \"\"\"\n",
    "    fahrenheit = ent_temperature.get()\n",
    "    celsius = (5 / 9) * (float(fahrenheit) - 32)\n",
    "    lbl_result[\"text\"] = f\"{round(celsius, 2)} \\N{DEGREE CELSIUS}\"\n",
    "\n",
    "# Set up the window\n",
    "window = tk.Tk()\n",
    "window.title(\"Temperature Converter\")\n",
    "window.resizable(width=False, height=False)\n",
    "\n",
    "# Create the Fahrenheit entry frame with an Entry\n",
    "# widget and label in it\n",
    "frm_entry = tk.Frame(master=window)\n",
    "ent_temperature = tk.Entry(master=frm_entry, width=10)\n",
    "lbl_temp = tk.Label(master=frm_entry, text=\"\\N{DEGREE FAHRENHEIT}\")\n",
    "\n",
    "# Layout the temperature Entry and Label in frm_entry\n",
    "# using the .grid() geometry manager\n",
    "ent_temperature.grid(row=0, column=0, sticky=\"e\")\n",
    "lbl_temp.grid(row=0, column=1, sticky=\"w\")\n",
    "\n",
    "# Create the conversion Button and result display Label\n",
    "btn_convert = tk.Button(\n",
    "    master=window,\n",
    "    text=\"\\N{RIGHTWARDS BLACK ARROW}\",\n",
    "    command=fahrenheit_to_celsius\n",
    ")\n",
    "lbl_result = tk.Label(master=window, text=\"\\N{DEGREE CELSIUS}\")\n",
    "\n",
    "# Set up the layout using the .grid() geometry manager\n",
    "frm_entry.grid(row=0, column=0, padx=10)\n",
    "btn_convert.grid(row=0, column=1, pady=10)\n",
    "lbl_result.grid(row=0, column=2, padx=10)\n",
    "\n",
    "# Run the application\n",
    "window.mainloop()"
   ]
  },
  {
   "cell_type": "markdown",
   "metadata": {},
   "source": [
    "## Text Editor"
   ]
  },
  {
   "cell_type": "code",
   "execution_count": 36,
   "metadata": {},
   "outputs": [],
   "source": [
    "from tkinter.filedialog import askopenfilename, asksaveasfilename\n",
    "\n",
    "def open_file():\n",
    "    \"\"\"Open a file for editing.\"\"\"\n",
    "    filepath = askopenfilename(\n",
    "        filetypes=[(\"Text Files\", \"*.txt\"), (\"All Files\", \"*.*\")]\n",
    "    )\n",
    "    if not filepath:\n",
    "        return\n",
    "    txt_edit.delete(\"1.0\", tk.END)\n",
    "    with open(filepath, mode=\"r\", encoding=\"utf-8\") as input_file:\n",
    "        text = input_file.read()\n",
    "        txt_edit.insert(tk.END, text)\n",
    "    window.title(f\"Simple Text Editor - {filepath}\")\n",
    "\n",
    "def save_file():\n",
    "    \"\"\"Save the current file as a new file.\"\"\"\n",
    "    filepath = asksaveasfilename(\n",
    "        defaultextension=\".txt\",\n",
    "        filetypes=[(\"Text Files\", \"*.txt\"), (\"All Files\", \"*.*\")],\n",
    "    )\n",
    "    if not filepath:\n",
    "        return\n",
    "    with open(filepath, mode=\"w\", encoding=\"utf-8\") as output_file:\n",
    "        text = txt_edit.get(\"1.0\", tk.END)\n",
    "        output_file.write(text)\n",
    "    window.title(f\"Simple Text Editor - {filepath}\")\n",
    "\n",
    "window = tk.Tk()\n",
    "window.title(\"Simple Text Editor\")\n",
    "\n",
    "window.rowconfigure(0, minsize=800, weight=1)\n",
    "window.columnconfigure(1, minsize=800, weight=1)\n",
    "\n",
    "txt_edit = tk.Text(window)\n",
    "frm_buttons = tk.Frame(window, relief=tk.RAISED, bd=2)\n",
    "btn_open = tk.Button(frm_buttons, text=\"Open\", command=open_file)\n",
    "btn_save = tk.Button(frm_buttons, text=\"Save As...\", command=save_file)\n",
    "\n",
    "btn_open.grid(row=0, column=0, sticky=\"ew\", padx=5, pady=5)\n",
    "btn_save.grid(row=1, column=0, sticky=\"ew\", padx=5)\n",
    "\n",
    "frm_buttons.grid(row=0, column=0, sticky=\"ns\")\n",
    "txt_edit.grid(row=0, column=1, sticky=\"nsew\")\n",
    "\n",
    "window.mainloop()"
   ]
  },
  {
   "cell_type": "markdown",
   "metadata": {},
   "source": [
    "# Backend Code Scratch"
   ]
  },
  {
   "cell_type": "code",
   "execution_count": 37,
   "metadata": {},
   "outputs": [
    {
     "name": "stdout",
     "output_type": "stream",
     "text": [
      "Top 5 Wikipedia Results for \"worthington ohio schools\":\n",
      "Worthington, Ohio\n",
      "Thomas Worthington High School\n",
      "Worthington Christian High School\n",
      "Worthington Kilbourne High School\n",
      "Worthington City School District\n"
     ]
    }
   ],
   "source": [
    "import wikipedia\n",
    "\n",
    "search = \"worthington ohio schools\"\n",
    "\n",
    "search_results = wikipedia.search(query=search, results=5)\n",
    "\n",
    "# Print the top 5 results (titles)\n",
    "print(f'Top 5 Wikipedia Results for \"{search}\":')\n",
    "for result in search_results:\n",
    "  print(result)"
   ]
  },
  {
   "cell_type": "markdown",
   "metadata": {},
   "source": [
    "# DuckDuckGo and Reddit\n",
    "\n",
    "- How do I sort through all irrelevant comments such as \"what is your budget?\" and \"thank you for your review\"\n",
    "- What is the optimal number of reddit posts to go through? What will the API let me do per minute and per day?\n",
    "- How can I use NLP to fine tune the results?\n",
    "- How can I use a LLM to fine tune the results or synthesize them?\n",
    "- How to intuitively distinguish between posts and comment trees in resulting dataset\n",
    "- Get the price"
   ]
  },
  {
   "cell_type": "code",
   "execution_count": 86,
   "metadata": {},
   "outputs": [],
   "source": [
    "from duckduckgo_search import DDGS\n",
    "import praw\n",
    "import json\n",
    "import pandas as pd\n",
    "# get secrets\n",
    "with open(\"../secrets.json\") as f:\n",
    "    secrets = json.load(f)\n",
    "# initialize reddit class\n",
    "reddit = praw.Reddit(\n",
    "    client_id=secrets.get(\"client_id\"),\n",
    "    client_secret=secrets.get(\"client_secret\"),\n",
    "    user_agent=secrets.get(\"user_agent\"),\n",
    ")"
   ]
  },
  {
   "cell_type": "code",
   "execution_count": 109,
   "metadata": {
    "tags": []
   },
   "outputs": [],
   "source": [
    "search_text = \"best leggings brand site:reddit.com\""
   ]
  },
  {
   "cell_type": "code",
   "execution_count": 110,
   "metadata": {},
   "outputs": [
    {
     "data": {
      "text/html": [
       "<div>\n",
       "<style scoped>\n",
       "    .dataframe tbody tr th:only-of-type {\n",
       "        vertical-align: middle;\n",
       "    }\n",
       "\n",
       "    .dataframe tbody tr th {\n",
       "        vertical-align: top;\n",
       "    }\n",
       "\n",
       "    .dataframe thead th {\n",
       "        text-align: right;\n",
       "    }\n",
       "</style>\n",
       "<table border=\"1\" class=\"dataframe\">\n",
       "  <thead>\n",
       "    <tr style=\"text-align: right;\">\n",
       "      <th></th>\n",
       "      <th>url</th>\n",
       "      <th>upvotes</th>\n",
       "      <th>comment</th>\n",
       "    </tr>\n",
       "  </thead>\n",
       "  <tbody>\n",
       "    <tr>\n",
       "      <th>706</th>\n",
       "      <td>https://www.reddit.com/r/femalefashionadvice/c...</td>\n",
       "      <td>411</td>\n",
       "      <td>This is amazing! Thank you for putting it toge...</td>\n",
       "    </tr>\n",
       "    <tr>\n",
       "      <th>2</th>\n",
       "      <td>https://www.reddit.com/r/femalefashionadvice/c...</td>\n",
       "      <td>343</td>\n",
       "      <td>My go to leggings are 90 degrees by reflex. De...</td>\n",
       "    </tr>\n",
       "    <tr>\n",
       "      <th>0</th>\n",
       "      <td>https://www.reddit.com/r/femalefashionadvice/c...</td>\n",
       "      <td>318</td>\n",
       "      <td>1. Costco has a brand of leggings called Matty...</td>\n",
       "    </tr>\n",
       "    <tr>\n",
       "      <th>3</th>\n",
       "      <td>https://www.reddit.com/r/femalefashionadvice/c...</td>\n",
       "      <td>277</td>\n",
       "      <td>Aerie leggings! Their PLAY leggings are thin b...</td>\n",
       "    </tr>\n",
       "    <tr>\n",
       "      <th>1</th>\n",
       "      <td>https://www.reddit.com/r/femalefashionadvice/c...</td>\n",
       "      <td>219</td>\n",
       "      <td>The Zella Live-In leggings from Nordstrom! The...</td>\n",
       "    </tr>\n",
       "    <tr>\n",
       "      <th>...</th>\n",
       "      <td>...</td>\n",
       "      <td>...</td>\n",
       "      <td>...</td>\n",
       "    </tr>\n",
       "    <tr>\n",
       "      <th>1166</th>\n",
       "      <td>https://www.reddit.com/r/minimalism/comments/g...</td>\n",
       "      <td>-2</td>\n",
       "      <td>I'm very similar to you in that I like to have...</td>\n",
       "    </tr>\n",
       "    <tr>\n",
       "      <th>477</th>\n",
       "      <td>https://www.reddit.com/r/gymsnark/comments/zun...</td>\n",
       "      <td>-2</td>\n",
       "      <td>It looks like you are posting about looking fo...</td>\n",
       "    </tr>\n",
       "    <tr>\n",
       "      <th>522</th>\n",
       "      <td>https://www.reddit.com/r/gymsnark/comments/zun...</td>\n",
       "      <td>-2</td>\n",
       "      <td>I second this. I ordered a few of her sports b...</td>\n",
       "    </tr>\n",
       "    <tr>\n",
       "      <th>858</th>\n",
       "      <td>https://www.reddit.com/r/femalefashionadvice/c...</td>\n",
       "      <td>-6</td>\n",
       "      <td>Polyester is made out of fossil fuels and I ca...</td>\n",
       "    </tr>\n",
       "    <tr>\n",
       "      <th>676</th>\n",
       "      <td>https://www.reddit.com/r/TheGirlSurvivalGuide/...</td>\n",
       "      <td>-17</td>\n",
       "      <td>[removed]</td>\n",
       "    </tr>\n",
       "  </tbody>\n",
       "</table>\n",
       "<p>1244 rows × 3 columns</p>\n",
       "</div>"
      ],
      "text/plain": [
       "                                                    url  upvotes  \\\n",
       "706   https://www.reddit.com/r/femalefashionadvice/c...      411   \n",
       "2     https://www.reddit.com/r/femalefashionadvice/c...      343   \n",
       "0     https://www.reddit.com/r/femalefashionadvice/c...      318   \n",
       "3     https://www.reddit.com/r/femalefashionadvice/c...      277   \n",
       "1     https://www.reddit.com/r/femalefashionadvice/c...      219   \n",
       "...                                                 ...      ...   \n",
       "1166  https://www.reddit.com/r/minimalism/comments/g...       -2   \n",
       "477   https://www.reddit.com/r/gymsnark/comments/zun...       -2   \n",
       "522   https://www.reddit.com/r/gymsnark/comments/zun...       -2   \n",
       "858   https://www.reddit.com/r/femalefashionadvice/c...       -6   \n",
       "676   https://www.reddit.com/r/TheGirlSurvivalGuide/...      -17   \n",
       "\n",
       "                                                comment  \n",
       "706   This is amazing! Thank you for putting it toge...  \n",
       "2     My go to leggings are 90 degrees by reflex. De...  \n",
       "0     1. Costco has a brand of leggings called Matty...  \n",
       "3     Aerie leggings! Their PLAY leggings are thin b...  \n",
       "1     The Zella Live-In leggings from Nordstrom! The...  \n",
       "...                                                 ...  \n",
       "1166  I'm very similar to you in that I like to have...  \n",
       "477   It looks like you are posting about looking fo...  \n",
       "522   I second this. I ordered a few of her sports b...  \n",
       "858   Polyester is made out of fossil fuels and I ca...  \n",
       "676                                           [removed]  \n",
       "\n",
       "[1244 rows x 3 columns]"
      ]
     },
     "execution_count": 110,
     "metadata": {},
     "output_type": "execute_result"
    },
    {
     "name": "stderr",
     "output_type": "stream",
     "text": [
      "c:\\Users\\Max\\.virtualenvs\\experiments-0QODYWh7\\Lib\\site-packages\\curl_cffi\\aio.py:205: UserWarning: Curlm alread closed! quitting from process_data\n",
      "  warnings.warn(\"Curlm alread closed! quitting from process_data\")\n"
     ]
    }
   ],
   "source": [
    "results = DDGS().text(search_text, max_results=10)\n",
    "all_comments_lists = []\n",
    "for result in results:\n",
    "    reddit_url = result[\"href\"]\n",
    "    submission = reddit.submission(url=reddit_url)\n",
    "    submission.comments.replace_more(limit=1) # limit represents the comment tree, put None for getting the whole tree\n",
    "    comments_list = [\n",
    "        [reddit_url, comment.score, comment.body] for comment in submission.comments.list()\n",
    "    ]\n",
    "    all_comments_lists.extend(comments_list)\n",
    "\n",
    "comments_df = pd.DataFrame(all_comments_lists, columns=['url', 'upvotes', 'comment'])\n",
    "comments_df = comments_df.sort_values(by=['upvotes'], ascending=False)\n",
    "comments_df"
   ]
  },
  {
   "cell_type": "code",
   "execution_count": 111,
   "metadata": {},
   "outputs": [],
   "source": [
    "\n",
    "comments_df.to_csv(\"comments_data.csv\", index=False)"
   ]
  }
 ],
 "metadata": {
  "kernelspec": {
   "display_name": ".venv",
   "language": "python",
   "name": "python3"
  },
  "language_info": {
   "codemirror_mode": {
    "name": "ipython",
    "version": 3
   },
   "file_extension": ".py",
   "mimetype": "text/x-python",
   "name": "python",
   "nbconvert_exporter": "python",
   "pygments_lexer": "ipython3",
   "version": "3.12.2"
  }
 },
 "nbformat": 4,
 "nbformat_minor": 2
}
